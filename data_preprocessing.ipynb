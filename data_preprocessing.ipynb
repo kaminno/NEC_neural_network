{
 "cells": [
  {
   "cell_type": "markdown",
   "metadata": {},
   "source": [
    "## Data preprocessing"
   ]
  },
  {
   "cell_type": "markdown",
   "metadata": {},
   "source": [
    "source: https://archive.ics.uci.edu/dataset/186/wine+quality"
   ]
  },
  {
   "cell_type": "markdown",
   "metadata": {},
   "source": [
    "### Imports"
   ]
  },
  {
   "cell_type": "code",
   "execution_count": 27,
   "metadata": {},
   "outputs": [],
   "source": [
    "import pandas as pd\n",
    "import matplotlib.pyplot as plt\n",
    "import seaborn as sns\n",
    "from sklearn.preprocessing import MinMaxScaler\n",
    "from sklearn.preprocessing import StandardScaler"
   ]
  },
  {
   "cell_type": "markdown",
   "metadata": {},
   "source": [
    "### Data load"
   ]
  },
  {
   "cell_type": "code",
   "execution_count": null,
   "metadata": {},
   "outputs": [],
   "source": [
    "df_red = pd.read_csv(\"data/winequality-red.csv\", sep=\";\")\n",
    "df_white = pd.read_csv(\"data/winequality-white.csv\", sep=\";\")"
   ]
  },
  {
   "cell_type": "markdown",
   "metadata": {},
   "source": [
    "### Data catenation\n",
    "Those data have one cathegorical variable _type_. As there are two .csv files, one for each variable, it is neccessary to transform two files without _type_ variable to one table with new column(s) to capture the new variable _type_. Because there is just one cathegorical variable which has only two values, the transformation could be done using on-hot trick without significant size/dimension affection of the new data."
   ]
  },
  {
   "cell_type": "code",
   "execution_count": null,
   "metadata": {},
   "outputs": [
    {
     "name": "stdout",
     "output_type": "stream",
     "text": [
      "<class 'pandas.core.frame.DataFrame'>\n",
      "RangeIndex: 6497 entries, 0 to 6496\n",
      "Data columns (total 14 columns):\n",
      " #   Column                Non-Null Count  Dtype  \n",
      "---  ------                --------------  -----  \n",
      " 0   fixed acidity         6497 non-null   float64\n",
      " 1   volatile acidity      6497 non-null   float64\n",
      " 2   citric acid           6497 non-null   float64\n",
      " 3   residual sugar        6497 non-null   float64\n",
      " 4   chlorides             6497 non-null   float64\n",
      " 5   free sulfur dioxide   6497 non-null   float64\n",
      " 6   total sulfur dioxide  6497 non-null   float64\n",
      " 7   density               6497 non-null   float64\n",
      " 8   pH                    6497 non-null   float64\n",
      " 9   sulphates             6497 non-null   float64\n",
      " 10  alcohol               6497 non-null   float64\n",
      " 11  quality               6497 non-null   int64  \n",
      " 12  red                   6497 non-null   int64  \n",
      " 13  white                 6497 non-null   int64  \n",
      "dtypes: float64(11), int64(3)\n",
      "memory usage: 710.7 KB\n",
      "None\n"
     ]
    }
   ],
   "source": [
    "# add new on-hot columns to each dataset\n",
    "df_red[\"red\"] = 1\n",
    "df_red[\"white\"] = 0\n",
    "\n",
    "df_white[\"red\"] = 0\n",
    "df_white[\"white\"] = 1\n",
    "\n",
    "# catenate both datasets together\n",
    "df = pd.concat([df_red, df_white], ignore_index=True)\n",
    "\n",
    "# catenation were successful, column names and row count as expected\n",
    "# print(df.info())\n",
    "# print(df.head())"
   ]
  },
  {
   "cell_type": "markdown",
   "metadata": {},
   "source": [
    "### Data preprocessing\n",
    "There are a lot of data preprocessing methods which should be used in ussual case. But in this dataset, a lot of potentional problems cannot occur. There is not any _date_ variable, neither _strings_ or other objects. Using the _info()_ method of pandas dataframe, we can see that the dataset has none of _None_ or _NAN_ values, so all are presented, and there are also just _int_ or _float_ variables. Moreover, all columns have same number of rows."
   ]
  },
  {
   "cell_type": "code",
   "execution_count": 62,
   "metadata": {},
   "outputs": [
    {
     "name": "stdout",
     "output_type": "stream",
     "text": [
      "fixed acidity           0\n",
      "volatile acidity        0\n",
      "citric acid             0\n",
      "residual sugar          0\n",
      "chlorides               0\n",
      "free sulfur dioxide     0\n",
      "total sulfur dioxide    0\n",
      "density                 0\n",
      "pH                      0\n",
      "sulphates               0\n",
      "alcohol                 0\n",
      "quality                 0\n",
      "red                     0\n",
      "white                   0\n",
      "dtype: int64\n"
     ]
    }
   ],
   "source": [
    "# there is not any None value in any column\n",
    "print(df.isna().sum())"
   ]
  },
  {
   "cell_type": "markdown",
   "metadata": {},
   "source": [
    "I also think that there is no need to do any normalization, transformation etc. The only thing which should be checked is the column range for all measurements. The dataset were study in https://doi.org/10.1016/j.dss.2009.05.016., so the provided ranges are correct based on the study."
   ]
  },
  {
   "cell_type": "code",
   "execution_count": 63,
   "metadata": {},
   "outputs": [
    {
     "name": "stdout",
     "output_type": "stream",
     "text": [
      "(6497, 14)\n",
      "(5320, 14)\n"
     ]
    }
   ],
   "source": [
    "# remove duplicates\n",
    "print(df.shape)\n",
    "df = df.drop_duplicates()\n",
    "print(df.shape)"
   ]
  },
  {
   "cell_type": "code",
   "execution_count": 64,
   "metadata": {},
   "outputs": [],
   "source": [
    "df[\"free sulfur dioxide\"] = df[\"free sulfur dioxide\"] / 1000\n",
    "df[\"total sulfur dioxide\"] = df[\"total sulfur dioxide\"] / 1000\n",
    "# Standardize features\n",
    "features = df.drop(columns=[\"quality\", \"red\", \"white\"]).columns\n",
    "scaler = StandardScaler()\n",
    "df[features] = scaler.fit_transform(df[features])"
   ]
  },
  {
   "cell_type": "code",
   "execution_count": 65,
   "metadata": {},
   "outputs": [
    {
     "name": "stdout",
     "output_type": "stream",
     "text": [
      "       fixed acidity  volatile acidity   citric acid  residual sugar  \\\n",
      "count   5.320000e+03      5.320000e+03  5.320000e+03     5320.000000   \n",
      "mean    3.205456e-16     -6.410912e-17  2.671213e-17        0.000000   \n",
      "std     1.000094e+00      1.000094e+00  1.000094e+00        1.000094   \n",
      "min    -2.588145e+00     -1.570028e+00 -2.164515e+00       -0.988604   \n",
      "25%    -6.177717e-01     -6.784048e-01 -5.334545e-01       -0.721923   \n",
      "50%    -1.630701e-01     -2.623138e-01 -5.772841e-02       -0.521912   \n",
      "75%     3.674151e-01      3.915434e-01  5.539194e-01        0.544812   \n",
      "max     6.581671e+00      7.346207e+00  9.116989e+00       13.501067   \n",
      "\n",
      "          chlorides  free sulfur dioxide  total sulfur dioxide       density  \\\n",
      "count  5.320000e+03         5.320000e+03          5.320000e+03  5.320000e+03   \n",
      "mean   1.282182e-16         8.547883e-17          2.564365e-16  1.857027e-14   \n",
      "std    1.000094e+00         1.000094e+00          1.000094e+00  1.000094e+00   \n",
      "min   -1.293816e+00        -1.630964e+00         -1.904371e+00 -2.504125e+00   \n",
      "25%   -5.070517e-01        -7.884267e-01         -7.065318e-01 -7.875618e-01   \n",
      "50%   -2.628836e-01        -1.143971e-01          3.331010e-02  3.868208e-02   \n",
      "75%    2.525824e-01         6.158017e-01          6.894794e-01  7.536359e-01   \n",
      "max    1.503832e+01         1.454575e+01          5.740662e+00  1.498864e+01   \n",
      "\n",
      "                 pH     sulphates       alcohol      quality          red  \\\n",
      "count  5.320000e+03  5.320000e+03  5.320000e+03  5320.000000  5320.000000   \n",
      "mean   6.197215e-16 -2.136971e-17  6.624609e-16     5.795677     0.255451   \n",
      "std    1.000094e+00  1.000094e+00  1.000094e+00     0.879772     0.436155   \n",
      "min   -3.146985e+00 -2.092831e+00 -2.149768e+00     3.000000     0.000000   \n",
      "25%   -7.150198e-01 -6.902954e-01 -8.848223e-01     5.000000     0.000000   \n",
      "50%   -9.143899e-02 -1.559963e-01 -1.258547e-01     6.000000     0.000000   \n",
      "75%    6.568580e-01  4.450903e-01  7.174425e-01     6.000000     1.000000   \n",
      "max    4.897208e+00  9.795325e+00  3.668983e+00     9.000000     1.000000   \n",
      "\n",
      "             white  \n",
      "count  5320.000000  \n",
      "mean      0.744549  \n",
      "std       0.436155  \n",
      "min       0.000000  \n",
      "25%       0.000000  \n",
      "50%       1.000000  \n",
      "75%       1.000000  \n",
      "max       1.000000  \n",
      "       fixed acidity  volatile acidity  citric acid  residual sugar  \\\n",
      "count    5320.000000       5320.000000  5320.000000     5320.000000   \n",
      "mean        0.282246          0.176086     0.191864        0.068228   \n",
      "std         0.109064          0.112166     0.088649        0.069021   \n",
      "min         0.000000          0.000000     0.000000        0.000000   \n",
      "25%         0.214876          0.100000     0.144578        0.018405   \n",
      "50%         0.264463          0.146667     0.186747        0.032209   \n",
      "75%         0.322314          0.220000     0.240964        0.105828   \n",
      "max         1.000000          1.000000     1.000000        1.000000   \n",
      "\n",
      "         chlorides  free sulfur dioxide  total sulfur dioxide      density  \\\n",
      "count  5320.000000          5320.000000           5320.000000  5320.000000   \n",
      "mean      0.079219             0.100822              0.249099     0.143152   \n",
      "std       0.061235             0.061823              0.130816     0.057172   \n",
      "min       0.000000             0.000000              0.000000     0.000000   \n",
      "25%       0.048173             0.052083              0.156682     0.098130   \n",
      "50%       0.063123             0.093750              0.253456     0.145363   \n",
      "75%       0.094684             0.138889              0.339286     0.186235   \n",
      "max       1.000000             1.000000              1.000000     1.000000   \n",
      "\n",
      "                pH    sulphates      alcohol      quality          red  \\\n",
      "count  5320.000000  5320.000000  5320.000000  5320.000000  5320.000000   \n",
      "mean      0.391212     0.176043     0.369455     5.795677     0.255451   \n",
      "std       0.124325     0.084125     0.171874     0.879772     0.436155   \n",
      "min       0.000000     0.000000     0.000000     3.000000     0.000000   \n",
      "25%       0.302326     0.117978     0.217391     5.000000     0.000000   \n",
      "50%       0.379845     0.162921     0.347826     6.000000     0.000000   \n",
      "75%       0.472868     0.213483     0.492754     6.000000     1.000000   \n",
      "max       1.000000     1.000000     1.000000     9.000000     1.000000   \n",
      "\n",
      "             white  \n",
      "count  5320.000000  \n",
      "mean      0.744549  \n",
      "std       0.436155  \n",
      "min       0.000000  \n",
      "25%       0.000000  \n",
      "50%       1.000000  \n",
      "75%       1.000000  \n",
      "max       1.000000  \n"
     ]
    }
   ],
   "source": [
    "# Scale the features and target variable to the range [0, 1]\n",
    "print(df.describe())\n",
    "features = df.drop(columns=[\"quality\"]).columns\n",
    "scaler = MinMaxScaler()\n",
    "df[features] = scaler.fit_transform(df[features])\n",
    "print(df.describe())"
   ]
  },
  {
   "cell_type": "code",
   "execution_count": 66,
   "metadata": {},
   "outputs": [],
   "source": [
    "# # Standardize features\n",
    "# features = df.drop(columns=[\"quality\", \"red\", \"white\"]).columns\n",
    "# scaler = StandardScaler()\n",
    "# df[features] = scaler.fit_transform(df[features])"
   ]
  },
  {
   "cell_type": "code",
   "execution_count": 67,
   "metadata": {},
   "outputs": [
    {
     "name": "stdout",
     "output_type": "stream",
     "text": [
      "<class 'pandas.core.frame.DataFrame'>\n",
      "Index: 4081 entries, 5 to 6496\n",
      "Data columns (total 14 columns):\n",
      " #   Column                Non-Null Count  Dtype  \n",
      "---  ------                --------------  -----  \n",
      " 0   fixed acidity         4081 non-null   float64\n",
      " 1   volatile acidity      4081 non-null   float64\n",
      " 2   citric acid           4081 non-null   float64\n",
      " 3   residual sugar        4081 non-null   float64\n",
      " 4   chlorides             4081 non-null   float64\n",
      " 5   free sulfur dioxide   4081 non-null   float64\n",
      " 6   total sulfur dioxide  4081 non-null   float64\n",
      " 7   density               4081 non-null   float64\n",
      " 8   pH                    4081 non-null   float64\n",
      " 9   sulphates             4081 non-null   float64\n",
      " 10  alcohol               4081 non-null   float64\n",
      " 11  quality               4081 non-null   int64  \n",
      " 12  red                   4081 non-null   float64\n",
      " 13  white                 4081 non-null   float64\n",
      "dtypes: float64(13), int64(1)\n",
      "memory usage: 478.2 KB\n",
      "None\n"
     ]
    }
   ],
   "source": [
    "Q1 = df.quantile(0.25)\n",
    "Q3 = df.quantile(0.75)\n",
    "IQR = Q3 - Q1\n",
    "\n",
    "# Define outliers\n",
    "outliers = ((df < (Q1 - 1.5 * IQR)) | (df > (Q3 + 1.5 * IQR))).any(axis=1)\n",
    "\n",
    "# View outliers\n",
    "outlier_rows = df[outliers]\n",
    "# print(outlier_rows)\n",
    "# print(outlier_rows.info())\n",
    "cleaned_df = df[~outliers]\n",
    "print(cleaned_df.info())\n",
    "df = cleaned_df\n",
    "\n",
    "\n",
    "# z_scores = (df - df.mean()) / df.std()\n",
    "\n",
    "# # Threshold for outliers (e.g., Z > 3 or Z < -3)\n",
    "# outliers = (z_scores.abs() > 3).any(axis=1)\n",
    "\n",
    "# # View outliers\n",
    "# outlier_rows = df[outliers]\n",
    "# # print(outlier_rows)\n",
    "# cleaned_df = df[~outliers]\n",
    "# df = cleaned_df\n",
    "# print(cleaned_df.info())"
   ]
  },
  {
   "cell_type": "code",
   "execution_count": 68,
   "metadata": {},
   "outputs": [],
   "source": [
    "# put wine quality as a final column\n",
    "cols = list(df.columns)\n",
    "cols[-3], cols[-1] = cols[-1], cols[-3]\n",
    "df = df[cols]"
   ]
  },
  {
   "cell_type": "markdown",
   "metadata": {},
   "source": [
    "### Save prepared data"
   ]
  },
  {
   "cell_type": "code",
   "execution_count": 69,
   "metadata": {},
   "outputs": [],
   "source": [
    "# df = df.sample(frac = 1)"
   ]
  },
  {
   "cell_type": "code",
   "execution_count": 70,
   "metadata": {},
   "outputs": [],
   "source": [
    "# put the quality to the very end\n",
    "df.to_csv(\"data/wine_prepared.csv\", index=False)"
   ]
  },
  {
   "cell_type": "code",
   "execution_count": 46,
   "metadata": {},
   "outputs": [
    {
     "name": "stdout",
     "output_type": "stream",
     "text": [
      "       fixed acidity  volatile acidity   citric acid  residual sugar  \\\n",
      "count   5.320000e+03      5.320000e+03  5.320000e+03    5.320000e+03   \n",
      "mean    1.702898e-16      6.878374e-17 -3.906649e-17    4.674623e-17   \n",
      "std     1.000094e+00      1.000094e+00  1.000094e+00    1.000094e+00   \n",
      "min    -2.588145e+00     -1.570028e+00 -2.164515e+00   -9.886039e-01   \n",
      "25%    -6.177717e-01     -6.784048e-01 -5.334545e-01   -7.219228e-01   \n",
      "50%    -1.630701e-01     -2.623138e-01 -5.772841e-02   -5.219120e-01   \n",
      "75%     3.674151e-01      3.915434e-01  5.539194e-01    5.448122e-01   \n",
      "max     6.581671e+00      7.346207e+00  9.116989e+00    1.350107e+01   \n",
      "\n",
      "          chlorides  free sulfur dioxide  total sulfur dioxide       density  \\\n",
      "count  5.320000e+03         5.320000e+03          5.320000e+03  5.320000e+03   \n",
      "mean  -5.142086e-17        -6.945155e-17          3.606138e-17 -4.273941e-17   \n",
      "std    1.000094e+00         1.000094e+00          1.000094e+00  1.000094e+00   \n",
      "min   -1.293816e+00        -1.630964e+00         -1.904371e+00 -2.504125e+00   \n",
      "25%   -5.070517e-01        -7.884267e-01         -7.065318e-01 -7.875618e-01   \n",
      "50%   -2.628836e-01        -1.143971e-01          3.331010e-02  3.868208e-02   \n",
      "75%    2.525824e-01         6.158017e-01          6.894794e-01  7.536359e-01   \n",
      "max    1.503832e+01         1.454575e+01          5.740662e+00  1.498864e+01   \n",
      "\n",
      "                 pH     sulphates       alcohol        white          red  \\\n",
      "count  5.320000e+03  5.320000e+03  5.320000e+03  5320.000000  5320.000000   \n",
      "mean   1.088519e-16 -9.349247e-17 -3.071895e-17     0.744549     0.255451   \n",
      "std    1.000094e+00  1.000094e+00  1.000094e+00     0.436155     0.436155   \n",
      "min   -3.146985e+00 -2.092831e+00 -2.149768e+00     0.000000     0.000000   \n",
      "25%   -7.150198e-01 -6.902954e-01 -8.848223e-01     0.000000     0.000000   \n",
      "50%   -9.143899e-02 -1.559963e-01 -1.258547e-01     1.000000     0.000000   \n",
      "75%    6.568580e-01  4.450903e-01  7.174425e-01     1.000000     1.000000   \n",
      "max    4.897208e+00  9.795325e+00  3.668983e+00     1.000000     1.000000   \n",
      "\n",
      "           quality  \n",
      "count  5320.000000  \n",
      "mean      5.795677  \n",
      "std       0.879772  \n",
      "min       3.000000  \n",
      "25%       5.000000  \n",
      "50%       6.000000  \n",
      "75%       6.000000  \n",
      "max       9.000000  \n",
      "<class 'pandas.core.frame.DataFrame'>\n",
      "Index: 5320 entries, 2001 to 2870\n",
      "Data columns (total 14 columns):\n",
      " #   Column                Non-Null Count  Dtype  \n",
      "---  ------                --------------  -----  \n",
      " 0   fixed acidity         5320 non-null   float64\n",
      " 1   volatile acidity      5320 non-null   float64\n",
      " 2   citric acid           5320 non-null   float64\n",
      " 3   residual sugar        5320 non-null   float64\n",
      " 4   chlorides             5320 non-null   float64\n",
      " 5   free sulfur dioxide   5320 non-null   float64\n",
      " 6   total sulfur dioxide  5320 non-null   float64\n",
      " 7   density               5320 non-null   float64\n",
      " 8   pH                    5320 non-null   float64\n",
      " 9   sulphates             5320 non-null   float64\n",
      " 10  alcohol               5320 non-null   float64\n",
      " 11  white                 5320 non-null   float64\n",
      " 12  red                   5320 non-null   float64\n",
      " 13  quality               5320 non-null   int64  \n",
      "dtypes: float64(13), int64(1)\n",
      "memory usage: 623.4 KB\n",
      "None\n",
      "      fixed acidity  volatile acidity  citric acid  residual sugar  chlorides  \\\n",
      "2001      -0.845123          0.034894    -1.688789       -0.810817   0.333972   \n",
      "6032      -0.238854          1.283167    -0.397533        1.300409   0.089804   \n",
      "5640      -0.769339         -0.618963    -0.669376        0.633706  -0.100105   \n",
      "5321       0.367415         -0.202872    -0.601415       -0.677476   0.333972   \n",
      "4413      -0.390421         -0.916171     0.485959       -0.899710  -0.669830   \n",
      "\n",
      "      free sulfur dioxide  total sulfur dioxide   density        pH  \\\n",
      "2001            -0.451412             -0.107612 -0.382871  0.033277   \n",
      "6032             1.402170              1.389687  0.797477 -0.091439   \n",
      "5640             0.840478              0.614614  0.308476  0.033277   \n",
      "5321            -0.058228              0.350385 -0.241229 -0.715020   \n",
      "4413            -0.900765             -0.759378 -1.826268  0.532142   \n",
      "\n",
      "      sulphates   alcohol  white  red  quality  \n",
      "2001  -0.089209 -1.137811    1.0  0.0        5  \n",
      "6032  -0.623508 -0.969152    1.0  0.0        5  \n",
      "5640  -0.089209 -1.053482    1.0  0.0        5  \n",
      "5321   0.578665 -0.631833    1.0  0.0        5  \n",
      "4413  -1.024232  2.066718    1.0  0.0        7  \n"
     ]
    }
   ],
   "source": [
    "print(df.describe())\n",
    "print(df.info())\n",
    "print(df.head())"
   ]
  },
  {
   "cell_type": "code",
   "execution_count": null,
   "metadata": {},
   "outputs": [],
   "source": []
  }
 ],
 "metadata": {
  "kernelspec": {
   "display_name": "Python 3",
   "language": "python",
   "name": "python3"
  },
  "language_info": {
   "codemirror_mode": {
    "name": "ipython",
    "version": 3
   },
   "file_extension": ".py",
   "mimetype": "text/x-python",
   "name": "python",
   "nbconvert_exporter": "python",
   "pygments_lexer": "ipython3",
   "version": "3.8.10"
  }
 },
 "nbformat": 4,
 "nbformat_minor": 2
}
